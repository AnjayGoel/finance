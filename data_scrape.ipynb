{
 "cells": [
  {
   "cell_type": "code",
   "execution_count": 4,
   "id": "initial_id",
   "metadata": {
    "collapsed": true,
    "ExecuteTime": {
     "end_time": "2024-01-22T18:12:54.226832Z",
     "start_time": "2024-01-22T18:12:53.411647Z"
    }
   },
   "outputs": [
    {
     "name": "stderr",
     "output_type": "stream",
     "text": [
      "/Users/anjay/PycharmProjects/random/venv/lib/python3.9/site-packages/urllib3/__init__.py:34: NotOpenSSLWarning: urllib3 v2 only supports OpenSSL 1.1.1+, currently the 'ssl' module is compiled with 'LibreSSL 2.8.3'. See: https://github.com/urllib3/urllib3/issues/3020\n",
      "  warnings.warn(\n"
     ]
    }
   ],
   "source": [
    "import pandas as pd\n",
    "import requests\n",
    "import warnings\n",
    "from functools import reduce\n",
    "\n",
    "warnings.filterwarnings('ignore')"
   ]
  },
  {
   "cell_type": "code",
   "outputs": [],
   "source": [
    "mfs = {\n",
    "    \"largecap\": (120586, 20),  #ICICI Prudential Bluechip Fund\n",
    "    \"midcap\": (118989, 9),  #HDFC Mid-Cap Opportunities Fund\n",
    "    \"smallcap\": (118778, 21),  #Nippon India Small Cap Fund\n",
    "    \"liquid\": (119800, 22),  #SBI Liquid Fund\n",
    "    \"gold\": (119132, 9),  #HDFC Gold Fund,\n",
    "    \"flexi\": (122639,64)\n",
    "}"
   ],
   "metadata": {
    "collapsed": false,
    "ExecuteTime": {
     "end_time": "2024-01-22T18:12:54.227544Z",
     "start_time": "2024-01-22T18:12:54.224980Z"
    }
   },
   "id": "27a6d66ef719c548",
   "execution_count": 5
  },
  {
   "cell_type": "code",
   "outputs": [],
   "source": [
    "dfs = []\n",
    "for mf in mfs:\n",
    "    mfId = mfs[mf][1]\n",
    "    scId = mfs[mf][0]\n",
    "    payloads = [{\n",
    "        'mfID': mfId,\n",
    "        'scID': scId,\n",
    "        'fDate': f'01-Jan-{i}',\n",
    "        'tDate': f'31-Dec-{min(i + 4, 2023)}',\n",
    "    } for i in range(2010, 2023, 5)]\n",
    "\n",
    "    df = pd.DataFrame(columns=[mf, 'date'])\n",
    "    for payload in payloads:\n",
    "        response = requests.post('https://www.amfiindia.com/modules/NavHistoryPeriod', data=payload)\n",
    "        df_part = pd.read_html(response.text)[0]\n",
    "        df_part = df_part[[df_part.columns[0], df_part.columns[-1]]]\n",
    "        df_part.columns = [mf, 'date']\n",
    "        df = pd.concat([df, df_part])\n",
    "    df = df[df.columns[::-1]]\n",
    "    dfs.append(df)"
   ],
   "metadata": {
    "collapsed": false,
    "ExecuteTime": {
     "end_time": "2024-01-22T18:13:06.040627Z",
     "start_time": "2024-01-22T18:12:54.227612Z"
    }
   },
   "id": "7e8359a9cc1bb9fe",
   "execution_count": 6
  },
  {
   "cell_type": "code",
   "outputs": [],
   "source": [
    "df = reduce(lambda l,r: pd.merge(l,r,left_on='date',right_on='date',how='inner'), dfs)"
   ],
   "metadata": {
    "collapsed": false,
    "ExecuteTime": {
     "end_time": "2024-01-22T18:13:06.058150Z",
     "start_time": "2024-01-22T18:13:06.044067Z"
    }
   },
   "id": "3f2ca599b715f218",
   "execution_count": 7
  },
  {
   "cell_type": "code",
   "outputs": [],
   "source": [
    "df.to_csv(\"data/mfs.csv\",index=False)"
   ],
   "metadata": {
    "collapsed": false,
    "ExecuteTime": {
     "end_time": "2024-01-22T18:13:06.083470Z",
     "start_time": "2024-01-22T18:13:06.053774Z"
    }
   },
   "id": "ccd783170ffcca6d",
   "execution_count": 8
  }
 ],
 "metadata": {
  "kernelspec": {
   "display_name": "Python 3",
   "language": "python",
   "name": "python3"
  },
  "language_info": {
   "codemirror_mode": {
    "name": "ipython",
    "version": 2
   },
   "file_extension": ".py",
   "mimetype": "text/x-python",
   "name": "python",
   "nbconvert_exporter": "python",
   "pygments_lexer": "ipython2",
   "version": "2.7.6"
  }
 },
 "nbformat": 4,
 "nbformat_minor": 5
}
