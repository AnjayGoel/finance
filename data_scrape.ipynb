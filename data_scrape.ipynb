{
 "cells": [
  {
   "cell_type": "code",
   "execution_count": 3,
   "id": "initial_id",
   "metadata": {
    "collapsed": true,
    "ExecuteTime": {
     "end_time": "2024-01-18T19:12:12.384020Z",
     "start_time": "2024-01-18T19:12:12.381336Z"
    }
   },
   "outputs": [],
   "source": [
    "import pandas as pd\n",
    "import requests\n",
    "import warnings\n",
    "from functools import reduce\n",
    "\n",
    "warnings.filterwarnings('ignore')"
   ]
  },
  {
   "cell_type": "code",
   "outputs": [],
   "source": [
    "mfs = {\n",
    "    \"largecap\": (120586, 20),  #ICICI Prudential Bluechip Fund\n",
    "    \"midcap\": (118989, 9),  #HDFC Mid-Cap Opportunities Fund\n",
    "    \"smallcap\": (118778, 21),  #Nippon India Small Cap Fund\n",
    "    \"liquid\": (119800, 22),  #SBI Liquid Fund\n",
    "    \"gold\": (119132, 9),  #HDFC Gold Fund\n",
    "}"
   ],
   "metadata": {
    "collapsed": false,
    "ExecuteTime": {
     "end_time": "2024-01-18T19:12:13.198870Z",
     "start_time": "2024-01-18T19:12:13.195245Z"
    }
   },
   "id": "27a6d66ef719c548",
   "execution_count": 4
  },
  {
   "cell_type": "code",
   "outputs": [
    {
     "ename": "KeyboardInterrupt",
     "evalue": "",
     "output_type": "error",
     "traceback": [
      "\u001B[0;31m---------------------------------------------------------------------------\u001B[0m",
      "\u001B[0;31mKeyboardInterrupt\u001B[0m                         Traceback (most recent call last)",
      "Cell \u001B[0;32mIn[5], line 15\u001B[0m\n\u001B[1;32m     13\u001B[0m \u001B[38;5;28;01mfor\u001B[39;00m payload \u001B[38;5;129;01min\u001B[39;00m payloads:\n\u001B[1;32m     14\u001B[0m     response \u001B[38;5;241m=\u001B[39m requests\u001B[38;5;241m.\u001B[39mpost(\u001B[38;5;124m'\u001B[39m\u001B[38;5;124mhttps://www.amfiindia.com/modules/NavHistoryPeriod\u001B[39m\u001B[38;5;124m'\u001B[39m, data\u001B[38;5;241m=\u001B[39mpayload)\n\u001B[0;32m---> 15\u001B[0m     df_part \u001B[38;5;241m=\u001B[39m \u001B[43mpd\u001B[49m\u001B[38;5;241;43m.\u001B[39;49m\u001B[43mread_html\u001B[49m\u001B[43m(\u001B[49m\u001B[43mresponse\u001B[49m\u001B[38;5;241;43m.\u001B[39;49m\u001B[43mtext\u001B[49m\u001B[43m)\u001B[49m[\u001B[38;5;241m0\u001B[39m]\n\u001B[1;32m     16\u001B[0m     df_part \u001B[38;5;241m=\u001B[39m df_part[[df_part\u001B[38;5;241m.\u001B[39mcolumns[\u001B[38;5;241m0\u001B[39m], df_part\u001B[38;5;241m.\u001B[39mcolumns[\u001B[38;5;241m-\u001B[39m\u001B[38;5;241m1\u001B[39m]]]\n\u001B[1;32m     17\u001B[0m     df_part\u001B[38;5;241m.\u001B[39mcolumns \u001B[38;5;241m=\u001B[39m [mf, \u001B[38;5;124m'\u001B[39m\u001B[38;5;124mdate\u001B[39m\u001B[38;5;124m'\u001B[39m]\n",
      "File \u001B[0;32m~/PycharmProjects/random/venv/lib/python3.9/site-packages/pandas/io/html.py:1245\u001B[0m, in \u001B[0;36mread_html\u001B[0;34m(io, match, flavor, header, index_col, skiprows, attrs, parse_dates, thousands, encoding, decimal, converters, na_values, keep_default_na, displayed_only, extract_links, dtype_backend, storage_options)\u001B[0m\n\u001B[1;32m   1229\u001B[0m \u001B[38;5;28;01mif\u001B[39;00m \u001B[38;5;28misinstance\u001B[39m(io, \u001B[38;5;28mstr\u001B[39m) \u001B[38;5;129;01mand\u001B[39;00m \u001B[38;5;129;01mnot\u001B[39;00m \u001B[38;5;28many\u001B[39m(\n\u001B[1;32m   1230\u001B[0m     [\n\u001B[1;32m   1231\u001B[0m         is_file_like(io),\n\u001B[0;32m   (...)\u001B[0m\n\u001B[1;32m   1235\u001B[0m     ]\n\u001B[1;32m   1236\u001B[0m ):\n\u001B[1;32m   1237\u001B[0m     warnings\u001B[38;5;241m.\u001B[39mwarn(\n\u001B[1;32m   1238\u001B[0m         \u001B[38;5;124m\"\u001B[39m\u001B[38;5;124mPassing literal html to \u001B[39m\u001B[38;5;124m'\u001B[39m\u001B[38;5;124mread_html\u001B[39m\u001B[38;5;124m'\u001B[39m\u001B[38;5;124m is deprecated and \u001B[39m\u001B[38;5;124m\"\u001B[39m\n\u001B[1;32m   1239\u001B[0m         \u001B[38;5;124m\"\u001B[39m\u001B[38;5;124mwill be removed in a future version. To read from a \u001B[39m\u001B[38;5;124m\"\u001B[39m\n\u001B[0;32m   (...)\u001B[0m\n\u001B[1;32m   1242\u001B[0m         stacklevel\u001B[38;5;241m=\u001B[39mfind_stack_level(),\n\u001B[1;32m   1243\u001B[0m     )\n\u001B[0;32m-> 1245\u001B[0m \u001B[38;5;28;01mreturn\u001B[39;00m \u001B[43m_parse\u001B[49m\u001B[43m(\u001B[49m\n\u001B[1;32m   1246\u001B[0m \u001B[43m    \u001B[49m\u001B[43mflavor\u001B[49m\u001B[38;5;241;43m=\u001B[39;49m\u001B[43mflavor\u001B[49m\u001B[43m,\u001B[49m\n\u001B[1;32m   1247\u001B[0m \u001B[43m    \u001B[49m\u001B[43mio\u001B[49m\u001B[38;5;241;43m=\u001B[39;49m\u001B[43mio\u001B[49m\u001B[43m,\u001B[49m\n\u001B[1;32m   1248\u001B[0m \u001B[43m    \u001B[49m\u001B[43mmatch\u001B[49m\u001B[38;5;241;43m=\u001B[39;49m\u001B[43mmatch\u001B[49m\u001B[43m,\u001B[49m\n\u001B[1;32m   1249\u001B[0m \u001B[43m    \u001B[49m\u001B[43mheader\u001B[49m\u001B[38;5;241;43m=\u001B[39;49m\u001B[43mheader\u001B[49m\u001B[43m,\u001B[49m\n\u001B[1;32m   1250\u001B[0m \u001B[43m    \u001B[49m\u001B[43mindex_col\u001B[49m\u001B[38;5;241;43m=\u001B[39;49m\u001B[43mindex_col\u001B[49m\u001B[43m,\u001B[49m\n\u001B[1;32m   1251\u001B[0m \u001B[43m    \u001B[49m\u001B[43mskiprows\u001B[49m\u001B[38;5;241;43m=\u001B[39;49m\u001B[43mskiprows\u001B[49m\u001B[43m,\u001B[49m\n\u001B[1;32m   1252\u001B[0m \u001B[43m    \u001B[49m\u001B[43mparse_dates\u001B[49m\u001B[38;5;241;43m=\u001B[39;49m\u001B[43mparse_dates\u001B[49m\u001B[43m,\u001B[49m\n\u001B[1;32m   1253\u001B[0m \u001B[43m    \u001B[49m\u001B[43mthousands\u001B[49m\u001B[38;5;241;43m=\u001B[39;49m\u001B[43mthousands\u001B[49m\u001B[43m,\u001B[49m\n\u001B[1;32m   1254\u001B[0m \u001B[43m    \u001B[49m\u001B[43mattrs\u001B[49m\u001B[38;5;241;43m=\u001B[39;49m\u001B[43mattrs\u001B[49m\u001B[43m,\u001B[49m\n\u001B[1;32m   1255\u001B[0m \u001B[43m    \u001B[49m\u001B[43mencoding\u001B[49m\u001B[38;5;241;43m=\u001B[39;49m\u001B[43mencoding\u001B[49m\u001B[43m,\u001B[49m\n\u001B[1;32m   1256\u001B[0m \u001B[43m    \u001B[49m\u001B[43mdecimal\u001B[49m\u001B[38;5;241;43m=\u001B[39;49m\u001B[43mdecimal\u001B[49m\u001B[43m,\u001B[49m\n\u001B[1;32m   1257\u001B[0m \u001B[43m    \u001B[49m\u001B[43mconverters\u001B[49m\u001B[38;5;241;43m=\u001B[39;49m\u001B[43mconverters\u001B[49m\u001B[43m,\u001B[49m\n\u001B[1;32m   1258\u001B[0m \u001B[43m    \u001B[49m\u001B[43mna_values\u001B[49m\u001B[38;5;241;43m=\u001B[39;49m\u001B[43mna_values\u001B[49m\u001B[43m,\u001B[49m\n\u001B[1;32m   1259\u001B[0m \u001B[43m    \u001B[49m\u001B[43mkeep_default_na\u001B[49m\u001B[38;5;241;43m=\u001B[39;49m\u001B[43mkeep_default_na\u001B[49m\u001B[43m,\u001B[49m\n\u001B[1;32m   1260\u001B[0m \u001B[43m    \u001B[49m\u001B[43mdisplayed_only\u001B[49m\u001B[38;5;241;43m=\u001B[39;49m\u001B[43mdisplayed_only\u001B[49m\u001B[43m,\u001B[49m\n\u001B[1;32m   1261\u001B[0m \u001B[43m    \u001B[49m\u001B[43mextract_links\u001B[49m\u001B[38;5;241;43m=\u001B[39;49m\u001B[43mextract_links\u001B[49m\u001B[43m,\u001B[49m\n\u001B[1;32m   1262\u001B[0m \u001B[43m    \u001B[49m\u001B[43mdtype_backend\u001B[49m\u001B[38;5;241;43m=\u001B[39;49m\u001B[43mdtype_backend\u001B[49m\u001B[43m,\u001B[49m\n\u001B[1;32m   1263\u001B[0m \u001B[43m    \u001B[49m\u001B[43mstorage_options\u001B[49m\u001B[38;5;241;43m=\u001B[39;49m\u001B[43mstorage_options\u001B[49m\u001B[43m,\u001B[49m\n\u001B[1;32m   1264\u001B[0m \u001B[43m\u001B[49m\u001B[43m)\u001B[49m\n",
      "File \u001B[0;32m~/PycharmProjects/random/venv/lib/python3.9/site-packages/pandas/io/html.py:1013\u001B[0m, in \u001B[0;36m_parse\u001B[0;34m(flavor, io, match, attrs, encoding, displayed_only, extract_links, storage_options, **kwargs)\u001B[0m\n\u001B[1;32m   1011\u001B[0m \u001B[38;5;28;01mfor\u001B[39;00m table \u001B[38;5;129;01min\u001B[39;00m tables:\n\u001B[1;32m   1012\u001B[0m     \u001B[38;5;28;01mtry\u001B[39;00m:\n\u001B[0;32m-> 1013\u001B[0m         df \u001B[38;5;241m=\u001B[39m \u001B[43m_data_to_frame\u001B[49m\u001B[43m(\u001B[49m\u001B[43mdata\u001B[49m\u001B[38;5;241;43m=\u001B[39;49m\u001B[43mtable\u001B[49m\u001B[43m,\u001B[49m\u001B[43m \u001B[49m\u001B[38;5;241;43m*\u001B[39;49m\u001B[38;5;241;43m*\u001B[39;49m\u001B[43mkwargs\u001B[49m\u001B[43m)\u001B[49m\n\u001B[1;32m   1014\u001B[0m         \u001B[38;5;66;03m# Cast MultiIndex header to an Index of tuples when extracting header\u001B[39;00m\n\u001B[1;32m   1015\u001B[0m         \u001B[38;5;66;03m# links and replace nan with None (therefore can't use mi.to_flat_index()).\u001B[39;00m\n\u001B[1;32m   1016\u001B[0m         \u001B[38;5;66;03m# This maintains consistency of selection (e.g. df.columns.str[1])\u001B[39;00m\n\u001B[1;32m   1017\u001B[0m         \u001B[38;5;28;01mif\u001B[39;00m extract_links \u001B[38;5;129;01min\u001B[39;00m (\u001B[38;5;124m\"\u001B[39m\u001B[38;5;124mall\u001B[39m\u001B[38;5;124m\"\u001B[39m, \u001B[38;5;124m\"\u001B[39m\u001B[38;5;124mheader\u001B[39m\u001B[38;5;124m\"\u001B[39m) \u001B[38;5;129;01mand\u001B[39;00m \u001B[38;5;28misinstance\u001B[39m(\n\u001B[1;32m   1018\u001B[0m             df\u001B[38;5;241m.\u001B[39mcolumns, MultiIndex\n\u001B[1;32m   1019\u001B[0m         ):\n",
      "File \u001B[0;32m~/PycharmProjects/random/venv/lib/python3.9/site-packages/pandas/io/html.py:881\u001B[0m, in \u001B[0;36m_data_to_frame\u001B[0;34m(**kwargs)\u001B[0m\n\u001B[1;32m    879\u001B[0m _expand_elements(body)\n\u001B[1;32m    880\u001B[0m \u001B[38;5;28;01mwith\u001B[39;00m TextParser(body, header\u001B[38;5;241m=\u001B[39mheader, \u001B[38;5;241m*\u001B[39m\u001B[38;5;241m*\u001B[39mkwargs) \u001B[38;5;28;01mas\u001B[39;00m tp:\n\u001B[0;32m--> 881\u001B[0m     \u001B[38;5;28;01mreturn\u001B[39;00m \u001B[43mtp\u001B[49m\u001B[38;5;241;43m.\u001B[39;49m\u001B[43mread\u001B[49m\u001B[43m(\u001B[49m\u001B[43m)\u001B[49m\n",
      "File \u001B[0;32m~/PycharmProjects/random/venv/lib/python3.9/site-packages/pandas/io/parsers/readers.py:1748\u001B[0m, in \u001B[0;36mTextFileReader.read\u001B[0;34m(self, nrows)\u001B[0m\n\u001B[1;32m   1741\u001B[0m nrows \u001B[38;5;241m=\u001B[39m validate_integer(\u001B[38;5;124m\"\u001B[39m\u001B[38;5;124mnrows\u001B[39m\u001B[38;5;124m\"\u001B[39m, nrows)\n\u001B[1;32m   1742\u001B[0m \u001B[38;5;28;01mtry\u001B[39;00m:\n\u001B[1;32m   1743\u001B[0m     \u001B[38;5;66;03m# error: \"ParserBase\" has no attribute \"read\"\u001B[39;00m\n\u001B[1;32m   1744\u001B[0m     (\n\u001B[1;32m   1745\u001B[0m         index,\n\u001B[1;32m   1746\u001B[0m         columns,\n\u001B[1;32m   1747\u001B[0m         col_dict,\n\u001B[0;32m-> 1748\u001B[0m     ) \u001B[38;5;241m=\u001B[39m \u001B[38;5;28;43mself\u001B[39;49m\u001B[38;5;241;43m.\u001B[39;49m\u001B[43m_engine\u001B[49m\u001B[38;5;241;43m.\u001B[39;49m\u001B[43mread\u001B[49m\u001B[43m(\u001B[49m\u001B[43m  \u001B[49m\u001B[38;5;66;43;03m# type: ignore[attr-defined]\u001B[39;49;00m\n\u001B[1;32m   1749\u001B[0m \u001B[43m        \u001B[49m\u001B[43mnrows\u001B[49m\n\u001B[1;32m   1750\u001B[0m \u001B[43m    \u001B[49m\u001B[43m)\u001B[49m\n\u001B[1;32m   1751\u001B[0m \u001B[38;5;28;01mexcept\u001B[39;00m \u001B[38;5;167;01mException\u001B[39;00m:\n\u001B[1;32m   1752\u001B[0m     \u001B[38;5;28mself\u001B[39m\u001B[38;5;241m.\u001B[39mclose()\n",
      "File \u001B[0;32m~/PycharmProjects/random/venv/lib/python3.9/site-packages/pandas/io/parsers/python_parser.py:292\u001B[0m, in \u001B[0;36mPythonParser.read\u001B[0;34m(self, rows)\u001B[0m\n\u001B[1;32m    289\u001B[0m conv_data \u001B[38;5;241m=\u001B[39m \u001B[38;5;28mself\u001B[39m\u001B[38;5;241m.\u001B[39m_convert_data(data)\n\u001B[1;32m    290\u001B[0m columns, conv_data \u001B[38;5;241m=\u001B[39m \u001B[38;5;28mself\u001B[39m\u001B[38;5;241m.\u001B[39m_do_date_conversions(columns, conv_data)\n\u001B[0;32m--> 292\u001B[0m index, result_columns \u001B[38;5;241m=\u001B[39m \u001B[38;5;28;43mself\u001B[39;49m\u001B[38;5;241;43m.\u001B[39;49m\u001B[43m_make_index\u001B[49m\u001B[43m(\u001B[49m\n\u001B[1;32m    293\u001B[0m \u001B[43m    \u001B[49m\u001B[43mconv_data\u001B[49m\u001B[43m,\u001B[49m\u001B[43m \u001B[49m\u001B[43malldata\u001B[49m\u001B[43m,\u001B[49m\u001B[43m \u001B[49m\u001B[43mcolumns\u001B[49m\u001B[43m,\u001B[49m\u001B[43m \u001B[49m\u001B[43mindexnamerow\u001B[49m\n\u001B[1;32m    294\u001B[0m \u001B[43m\u001B[49m\u001B[43m)\u001B[49m\n\u001B[1;32m    296\u001B[0m \u001B[38;5;28;01mreturn\u001B[39;00m index, result_columns, conv_data\n",
      "File \u001B[0;32m~/PycharmProjects/random/venv/lib/python3.9/site-packages/pandas/io/parsers/base_parser.py:388\u001B[0m, in \u001B[0;36mParserBase._make_index\u001B[0;34m(self, data, alldata, columns, indexnamerow)\u001B[0m\n\u001B[1;32m    385\u001B[0m     index \u001B[38;5;241m=\u001B[39m index\u001B[38;5;241m.\u001B[39mset_names(indexnamerow[:coffset])\n\u001B[1;32m    387\u001B[0m \u001B[38;5;66;03m# maybe create a mi on the columns\u001B[39;00m\n\u001B[0;32m--> 388\u001B[0m columns \u001B[38;5;241m=\u001B[39m \u001B[38;5;28;43mself\u001B[39;49m\u001B[38;5;241;43m.\u001B[39;49m\u001B[43m_maybe_make_multi_index_columns\u001B[49m\u001B[43m(\u001B[49m\u001B[43mcolumns\u001B[49m\u001B[43m,\u001B[49m\u001B[43m \u001B[49m\u001B[38;5;28;43mself\u001B[39;49m\u001B[38;5;241;43m.\u001B[39;49m\u001B[43mcol_names\u001B[49m\u001B[43m)\u001B[49m\n\u001B[1;32m    390\u001B[0m \u001B[38;5;28;01mreturn\u001B[39;00m index, columns\n",
      "File \u001B[0;32m~/PycharmProjects/random/venv/lib/python3.9/site-packages/pandas/io/parsers/base_parser.py:358\u001B[0m, in \u001B[0;36mParserBase._maybe_make_multi_index_columns\u001B[0;34m(self, columns, col_names)\u001B[0m\n\u001B[1;32m    356\u001B[0m \u001B[38;5;28;01mif\u001B[39;00m is_potential_multi_index(columns):\n\u001B[1;32m    357\u001B[0m     list_columns \u001B[38;5;241m=\u001B[39m cast(\u001B[38;5;28mlist\u001B[39m[\u001B[38;5;28mtuple\u001B[39m], columns)\n\u001B[0;32m--> 358\u001B[0m     \u001B[38;5;28;01mreturn\u001B[39;00m \u001B[43mMultiIndex\u001B[49m\u001B[38;5;241;43m.\u001B[39;49m\u001B[43mfrom_tuples\u001B[49m\u001B[43m(\u001B[49m\u001B[43mlist_columns\u001B[49m\u001B[43m,\u001B[49m\u001B[43m \u001B[49m\u001B[43mnames\u001B[49m\u001B[38;5;241;43m=\u001B[39;49m\u001B[43mcol_names\u001B[49m\u001B[43m)\u001B[49m\n\u001B[1;32m    359\u001B[0m \u001B[38;5;28;01mreturn\u001B[39;00m columns\n",
      "File \u001B[0;32m~/PycharmProjects/random/venv/lib/python3.9/site-packages/pandas/core/indexes/multi.py:220\u001B[0m, in \u001B[0;36mnames_compat.<locals>.new_meth\u001B[0;34m(self_or_cls, *args, **kwargs)\u001B[0m\n\u001B[1;32m    217\u001B[0m \u001B[38;5;28;01mif\u001B[39;00m \u001B[38;5;124m\"\u001B[39m\u001B[38;5;124mname\u001B[39m\u001B[38;5;124m\"\u001B[39m \u001B[38;5;129;01min\u001B[39;00m kwargs:\n\u001B[1;32m    218\u001B[0m     kwargs[\u001B[38;5;124m\"\u001B[39m\u001B[38;5;124mnames\u001B[39m\u001B[38;5;124m\"\u001B[39m] \u001B[38;5;241m=\u001B[39m kwargs\u001B[38;5;241m.\u001B[39mpop(\u001B[38;5;124m\"\u001B[39m\u001B[38;5;124mname\u001B[39m\u001B[38;5;124m\"\u001B[39m)\n\u001B[0;32m--> 220\u001B[0m \u001B[38;5;28;01mreturn\u001B[39;00m \u001B[43mmeth\u001B[49m\u001B[43m(\u001B[49m\u001B[43mself_or_cls\u001B[49m\u001B[43m,\u001B[49m\u001B[43m \u001B[49m\u001B[38;5;241;43m*\u001B[39;49m\u001B[43margs\u001B[49m\u001B[43m,\u001B[49m\u001B[43m \u001B[49m\u001B[38;5;241;43m*\u001B[39;49m\u001B[38;5;241;43m*\u001B[39;49m\u001B[43mkwargs\u001B[49m\u001B[43m)\u001B[49m\n",
      "File \u001B[0;32m~/PycharmProjects/random/venv/lib/python3.9/site-packages/pandas/core/indexes/multi.py:622\u001B[0m, in \u001B[0;36mMultiIndex.from_tuples\u001B[0;34m(cls, tuples, sortorder, names)\u001B[0m\n\u001B[1;32m    619\u001B[0m     arrs \u001B[38;5;241m=\u001B[39m \u001B[38;5;28mzip\u001B[39m(\u001B[38;5;241m*\u001B[39mtuples)\n\u001B[1;32m    620\u001B[0m     arrays \u001B[38;5;241m=\u001B[39m cast(\u001B[38;5;28mlist\u001B[39m[Sequence[Hashable]], arrs)\n\u001B[0;32m--> 622\u001B[0m \u001B[38;5;28;01mreturn\u001B[39;00m \u001B[38;5;28;43mcls\u001B[39;49m\u001B[38;5;241;43m.\u001B[39;49m\u001B[43mfrom_arrays\u001B[49m\u001B[43m(\u001B[49m\u001B[43marrays\u001B[49m\u001B[43m,\u001B[49m\u001B[43m \u001B[49m\u001B[43msortorder\u001B[49m\u001B[38;5;241;43m=\u001B[39;49m\u001B[43msortorder\u001B[49m\u001B[43m,\u001B[49m\u001B[43m \u001B[49m\u001B[43mnames\u001B[49m\u001B[38;5;241;43m=\u001B[39;49m\u001B[43mnames\u001B[49m\u001B[43m)\u001B[49m\n",
      "File \u001B[0;32m~/PycharmProjects/random/venv/lib/python3.9/site-packages/pandas/core/indexes/multi.py:531\u001B[0m, in \u001B[0;36mMultiIndex.from_arrays\u001B[0;34m(cls, arrays, sortorder, names)\u001B[0m\n\u001B[1;32m    528\u001B[0m     \u001B[38;5;28;01mif\u001B[39;00m \u001B[38;5;28mlen\u001B[39m(arrays[i]) \u001B[38;5;241m!=\u001B[39m \u001B[38;5;28mlen\u001B[39m(arrays[i \u001B[38;5;241m-\u001B[39m \u001B[38;5;241m1\u001B[39m]):\n\u001B[1;32m    529\u001B[0m         \u001B[38;5;28;01mraise\u001B[39;00m \u001B[38;5;167;01mValueError\u001B[39;00m(\u001B[38;5;124m\"\u001B[39m\u001B[38;5;124mall arrays must be same length\u001B[39m\u001B[38;5;124m\"\u001B[39m)\n\u001B[0;32m--> 531\u001B[0m codes, levels \u001B[38;5;241m=\u001B[39m \u001B[43mfactorize_from_iterables\u001B[49m\u001B[43m(\u001B[49m\u001B[43marrays\u001B[49m\u001B[43m)\u001B[49m\n\u001B[1;32m    532\u001B[0m \u001B[38;5;28;01mif\u001B[39;00m names \u001B[38;5;129;01mis\u001B[39;00m lib\u001B[38;5;241m.\u001B[39mno_default:\n\u001B[1;32m    533\u001B[0m     names \u001B[38;5;241m=\u001B[39m [\u001B[38;5;28mgetattr\u001B[39m(arr, \u001B[38;5;124m\"\u001B[39m\u001B[38;5;124mname\u001B[39m\u001B[38;5;124m\"\u001B[39m, \u001B[38;5;28;01mNone\u001B[39;00m) \u001B[38;5;28;01mfor\u001B[39;00m arr \u001B[38;5;129;01min\u001B[39;00m arrays]\n",
      "File \u001B[0;32m~/PycharmProjects/random/venv/lib/python3.9/site-packages/pandas/core/arrays/categorical.py:3023\u001B[0m, in \u001B[0;36mfactorize_from_iterables\u001B[0;34m(iterables)\u001B[0m\n\u001B[1;32m   3019\u001B[0m \u001B[38;5;28;01mif\u001B[39;00m \u001B[38;5;28mlen\u001B[39m(iterables) \u001B[38;5;241m==\u001B[39m \u001B[38;5;241m0\u001B[39m:\n\u001B[1;32m   3020\u001B[0m     \u001B[38;5;66;03m# For consistency, it should return two empty lists.\u001B[39;00m\n\u001B[1;32m   3021\u001B[0m     \u001B[38;5;28;01mreturn\u001B[39;00m [], []\n\u001B[0;32m-> 3023\u001B[0m codes, categories \u001B[38;5;241m=\u001B[39m \u001B[38;5;28;43mzip\u001B[39;49m\u001B[43m(\u001B[49m\u001B[38;5;241;43m*\u001B[39;49m\u001B[43m(\u001B[49m\u001B[43mfactorize_from_iterable\u001B[49m\u001B[43m(\u001B[49m\u001B[43mit\u001B[49m\u001B[43m)\u001B[49m\u001B[43m \u001B[49m\u001B[38;5;28;43;01mfor\u001B[39;49;00m\u001B[43m \u001B[49m\u001B[43mit\u001B[49m\u001B[43m \u001B[49m\u001B[38;5;129;43;01min\u001B[39;49;00m\u001B[43m \u001B[49m\u001B[43miterables\u001B[49m\u001B[43m)\u001B[49m\u001B[43m)\u001B[49m\n\u001B[1;32m   3024\u001B[0m \u001B[38;5;28;01mreturn\u001B[39;00m \u001B[38;5;28mlist\u001B[39m(codes), \u001B[38;5;28mlist\u001B[39m(categories)\n",
      "File \u001B[0;32m~/PycharmProjects/random/venv/lib/python3.9/site-packages/pandas/core/arrays/categorical.py:3023\u001B[0m, in \u001B[0;36m<genexpr>\u001B[0;34m(.0)\u001B[0m\n\u001B[1;32m   3019\u001B[0m \u001B[38;5;28;01mif\u001B[39;00m \u001B[38;5;28mlen\u001B[39m(iterables) \u001B[38;5;241m==\u001B[39m \u001B[38;5;241m0\u001B[39m:\n\u001B[1;32m   3020\u001B[0m     \u001B[38;5;66;03m# For consistency, it should return two empty lists.\u001B[39;00m\n\u001B[1;32m   3021\u001B[0m     \u001B[38;5;28;01mreturn\u001B[39;00m [], []\n\u001B[0;32m-> 3023\u001B[0m codes, categories \u001B[38;5;241m=\u001B[39m \u001B[38;5;28mzip\u001B[39m(\u001B[38;5;241m*\u001B[39m(\u001B[43mfactorize_from_iterable\u001B[49m\u001B[43m(\u001B[49m\u001B[43mit\u001B[49m\u001B[43m)\u001B[49m \u001B[38;5;28;01mfor\u001B[39;00m it \u001B[38;5;129;01min\u001B[39;00m iterables))\n\u001B[1;32m   3024\u001B[0m \u001B[38;5;28;01mreturn\u001B[39;00m \u001B[38;5;28mlist\u001B[39m(codes), \u001B[38;5;28mlist\u001B[39m(categories)\n",
      "File \u001B[0;32m~/PycharmProjects/random/venv/lib/python3.9/site-packages/pandas/core/arrays/categorical.py:2996\u001B[0m, in \u001B[0;36mfactorize_from_iterable\u001B[0;34m(values)\u001B[0m\n\u001B[1;32m   2991\u001B[0m     codes \u001B[38;5;241m=\u001B[39m values\u001B[38;5;241m.\u001B[39mcodes\n\u001B[1;32m   2992\u001B[0m \u001B[38;5;28;01melse\u001B[39;00m:\n\u001B[1;32m   2993\u001B[0m     \u001B[38;5;66;03m# The value of ordered is irrelevant since we don't use cat as such,\u001B[39;00m\n\u001B[1;32m   2994\u001B[0m     \u001B[38;5;66;03m# but only the resulting categories, the order of which is independent\u001B[39;00m\n\u001B[1;32m   2995\u001B[0m     \u001B[38;5;66;03m# from ordered. Set ordered to False as default. See GH #15457\u001B[39;00m\n\u001B[0;32m-> 2996\u001B[0m     cat \u001B[38;5;241m=\u001B[39m \u001B[43mCategorical\u001B[49m\u001B[43m(\u001B[49m\u001B[43mvalues\u001B[49m\u001B[43m,\u001B[49m\u001B[43m \u001B[49m\u001B[43mordered\u001B[49m\u001B[38;5;241;43m=\u001B[39;49m\u001B[38;5;28;43;01mFalse\u001B[39;49;00m\u001B[43m)\u001B[49m\n\u001B[1;32m   2997\u001B[0m     categories \u001B[38;5;241m=\u001B[39m cat\u001B[38;5;241m.\u001B[39mcategories\n\u001B[1;32m   2998\u001B[0m     codes \u001B[38;5;241m=\u001B[39m cat\u001B[38;5;241m.\u001B[39mcodes\n",
      "File \u001B[0;32m~/PycharmProjects/random/venv/lib/python3.9/site-packages/pandas/core/arrays/categorical.py:462\u001B[0m, in \u001B[0;36mCategorical.__init__\u001B[0;34m(self, values, categories, ordered, dtype, fastpath, copy)\u001B[0m\n\u001B[1;32m    455\u001B[0m             \u001B[38;5;28;01mraise\u001B[39;00m \u001B[38;5;167;01mTypeError\u001B[39;00m(\n\u001B[1;32m    456\u001B[0m                 \u001B[38;5;124m\"\u001B[39m\u001B[38;5;124m'\u001B[39m\u001B[38;5;124mvalues\u001B[39m\u001B[38;5;124m'\u001B[39m\u001B[38;5;124m is not ordered, please \u001B[39m\u001B[38;5;124m\"\u001B[39m\n\u001B[1;32m    457\u001B[0m                 \u001B[38;5;124m\"\u001B[39m\u001B[38;5;124mexplicitly specify the categories order \u001B[39m\u001B[38;5;124m\"\u001B[39m\n\u001B[1;32m    458\u001B[0m                 \u001B[38;5;124m\"\u001B[39m\u001B[38;5;124mby passing in a categories argument.\u001B[39m\u001B[38;5;124m\"\u001B[39m\n\u001B[1;32m    459\u001B[0m             ) \u001B[38;5;28;01mfrom\u001B[39;00m \u001B[38;5;21;01merr\u001B[39;00m\n\u001B[1;32m    461\u001B[0m     \u001B[38;5;66;03m# we're inferring from values\u001B[39;00m\n\u001B[0;32m--> 462\u001B[0m     dtype \u001B[38;5;241m=\u001B[39m \u001B[43mCategoricalDtype\u001B[49m\u001B[43m(\u001B[49m\u001B[43mcategories\u001B[49m\u001B[43m,\u001B[49m\u001B[43m \u001B[49m\u001B[43mdtype\u001B[49m\u001B[38;5;241;43m.\u001B[39;49m\u001B[43mordered\u001B[49m\u001B[43m)\u001B[49m\n\u001B[1;32m    464\u001B[0m \u001B[38;5;28;01melif\u001B[39;00m \u001B[38;5;28misinstance\u001B[39m(values\u001B[38;5;241m.\u001B[39mdtype, CategoricalDtype):\n\u001B[1;32m    465\u001B[0m     old_codes \u001B[38;5;241m=\u001B[39m extract_array(values)\u001B[38;5;241m.\u001B[39m_codes\n",
      "File \u001B[0;32m~/PycharmProjects/random/venv/lib/python3.9/site-packages/pandas/core/dtypes/dtypes.py:211\u001B[0m, in \u001B[0;36mCategoricalDtype.__init__\u001B[0;34m(self, categories, ordered)\u001B[0m\n\u001B[1;32m    210\u001B[0m \u001B[38;5;28;01mdef\u001B[39;00m \u001B[38;5;21m__init__\u001B[39m(\u001B[38;5;28mself\u001B[39m, categories\u001B[38;5;241m=\u001B[39m\u001B[38;5;28;01mNone\u001B[39;00m, ordered: Ordered \u001B[38;5;241m=\u001B[39m \u001B[38;5;28;01mFalse\u001B[39;00m) \u001B[38;5;241m-\u001B[39m\u001B[38;5;241m>\u001B[39m \u001B[38;5;28;01mNone\u001B[39;00m:\n\u001B[0;32m--> 211\u001B[0m     \u001B[38;5;28;43mself\u001B[39;49m\u001B[38;5;241;43m.\u001B[39;49m\u001B[43m_finalize\u001B[49m\u001B[43m(\u001B[49m\u001B[43mcategories\u001B[49m\u001B[43m,\u001B[49m\u001B[43m \u001B[49m\u001B[43mordered\u001B[49m\u001B[43m,\u001B[49m\u001B[43m \u001B[49m\u001B[43mfastpath\u001B[49m\u001B[38;5;241;43m=\u001B[39;49m\u001B[38;5;28;43;01mFalse\u001B[39;49;00m\u001B[43m)\u001B[49m\n",
      "File \u001B[0;32m~/PycharmProjects/random/venv/lib/python3.9/site-packages/pandas/core/dtypes/dtypes.py:368\u001B[0m, in \u001B[0;36mCategoricalDtype._finalize\u001B[0;34m(self, categories, ordered, fastpath)\u001B[0m\n\u001B[1;32m    365\u001B[0m     \u001B[38;5;28mself\u001B[39m\u001B[38;5;241m.\u001B[39mvalidate_ordered(ordered)\n\u001B[1;32m    367\u001B[0m \u001B[38;5;28;01mif\u001B[39;00m categories \u001B[38;5;129;01mis\u001B[39;00m \u001B[38;5;129;01mnot\u001B[39;00m \u001B[38;5;28;01mNone\u001B[39;00m:\n\u001B[0;32m--> 368\u001B[0m     categories \u001B[38;5;241m=\u001B[39m \u001B[38;5;28;43mself\u001B[39;49m\u001B[38;5;241;43m.\u001B[39;49m\u001B[43mvalidate_categories\u001B[49m\u001B[43m(\u001B[49m\u001B[43mcategories\u001B[49m\u001B[43m,\u001B[49m\u001B[43m \u001B[49m\u001B[43mfastpath\u001B[49m\u001B[38;5;241;43m=\u001B[39;49m\u001B[43mfastpath\u001B[49m\u001B[43m)\u001B[49m\n\u001B[1;32m    370\u001B[0m \u001B[38;5;28mself\u001B[39m\u001B[38;5;241m.\u001B[39m_categories \u001B[38;5;241m=\u001B[39m categories\n\u001B[1;32m    371\u001B[0m \u001B[38;5;28mself\u001B[39m\u001B[38;5;241m.\u001B[39m_ordered \u001B[38;5;241m=\u001B[39m ordered\n",
      "File \u001B[0;32m~/PycharmProjects/random/venv/lib/python3.9/site-packages/pandas/core/dtypes/dtypes.py:566\u001B[0m, in \u001B[0;36mCategoricalDtype.validate_categories\u001B[0;34m(categories, fastpath)\u001B[0m\n\u001B[1;32m    563\u001B[0m     categories \u001B[38;5;241m=\u001B[39m Index\u001B[38;5;241m.\u001B[39m_with_infer(categories, tupleize_cols\u001B[38;5;241m=\u001B[39m\u001B[38;5;28;01mFalse\u001B[39;00m)\n\u001B[1;32m    565\u001B[0m \u001B[38;5;28;01mif\u001B[39;00m \u001B[38;5;129;01mnot\u001B[39;00m fastpath:\n\u001B[0;32m--> 566\u001B[0m     \u001B[38;5;28;01mif\u001B[39;00m \u001B[43mcategories\u001B[49m\u001B[38;5;241;43m.\u001B[39;49m\u001B[43mhasnans\u001B[49m:\n\u001B[1;32m    567\u001B[0m         \u001B[38;5;28;01mraise\u001B[39;00m \u001B[38;5;167;01mValueError\u001B[39;00m(\u001B[38;5;124m\"\u001B[39m\u001B[38;5;124mCategorical categories cannot be null\u001B[39m\u001B[38;5;124m\"\u001B[39m)\n\u001B[1;32m    569\u001B[0m     \u001B[38;5;28;01mif\u001B[39;00m \u001B[38;5;129;01mnot\u001B[39;00m categories\u001B[38;5;241m.\u001B[39mis_unique:\n",
      "File \u001B[0;32mproperties.pyx:36\u001B[0m, in \u001B[0;36mpandas._libs.properties.CachedProperty.__get__\u001B[0;34m()\u001B[0m\n",
      "File \u001B[0;32m~/PycharmProjects/random/venv/lib/python3.9/site-packages/pandas/core/indexes/base.py:2820\u001B[0m, in \u001B[0;36mIndex.hasnans\u001B[0;34m(self)\u001B[0m\n\u001B[1;32m   2799\u001B[0m \u001B[38;5;250m\u001B[39m\u001B[38;5;124;03m\"\"\"\u001B[39;00m\n\u001B[1;32m   2800\u001B[0m \u001B[38;5;124;03mReturn True if there are any NaNs.\u001B[39;00m\n\u001B[1;32m   2801\u001B[0m \n\u001B[0;32m   (...)\u001B[0m\n\u001B[1;32m   2817\u001B[0m \u001B[38;5;124;03mTrue\u001B[39;00m\n\u001B[1;32m   2818\u001B[0m \u001B[38;5;124;03m\"\"\"\u001B[39;00m\n\u001B[1;32m   2819\u001B[0m \u001B[38;5;28;01mif\u001B[39;00m \u001B[38;5;28mself\u001B[39m\u001B[38;5;241m.\u001B[39m_can_hold_na:\n\u001B[0;32m-> 2820\u001B[0m     \u001B[38;5;28;01mreturn\u001B[39;00m \u001B[38;5;28mbool\u001B[39m(\u001B[38;5;28;43mself\u001B[39;49m\u001B[38;5;241;43m.\u001B[39;49m\u001B[43m_isnan\u001B[49m\u001B[38;5;241;43m.\u001B[39;49m\u001B[43many\u001B[49m\u001B[43m(\u001B[49m\u001B[43m)\u001B[49m)\n\u001B[1;32m   2821\u001B[0m \u001B[38;5;28;01melse\u001B[39;00m:\n\u001B[1;32m   2822\u001B[0m     \u001B[38;5;28;01mreturn\u001B[39;00m \u001B[38;5;28;01mFalse\u001B[39;00m\n",
      "File \u001B[0;32m~/PycharmProjects/random/venv/lib/python3.9/site-packages/numpy/core/_methods.py:58\u001B[0m, in \u001B[0;36m_any\u001B[0;34m(a, axis, dtype, out, keepdims, where)\u001B[0m\n\u001B[1;32m     55\u001B[0m \u001B[38;5;28;01mdef\u001B[39;00m \u001B[38;5;21m_any\u001B[39m(a, axis\u001B[38;5;241m=\u001B[39m\u001B[38;5;28;01mNone\u001B[39;00m, dtype\u001B[38;5;241m=\u001B[39m\u001B[38;5;28;01mNone\u001B[39;00m, out\u001B[38;5;241m=\u001B[39m\u001B[38;5;28;01mNone\u001B[39;00m, keepdims\u001B[38;5;241m=\u001B[39m\u001B[38;5;28;01mFalse\u001B[39;00m, \u001B[38;5;241m*\u001B[39m, where\u001B[38;5;241m=\u001B[39m\u001B[38;5;28;01mTrue\u001B[39;00m):\n\u001B[1;32m     56\u001B[0m     \u001B[38;5;66;03m# Parsing keyword arguments is currently fairly slow, so avoid it for now\u001B[39;00m\n\u001B[1;32m     57\u001B[0m     \u001B[38;5;28;01mif\u001B[39;00m where \u001B[38;5;129;01mis\u001B[39;00m \u001B[38;5;28;01mTrue\u001B[39;00m:\n\u001B[0;32m---> 58\u001B[0m         \u001B[38;5;28;01mreturn\u001B[39;00m \u001B[43mumr_any\u001B[49m\u001B[43m(\u001B[49m\u001B[43ma\u001B[49m\u001B[43m,\u001B[49m\u001B[43m \u001B[49m\u001B[43maxis\u001B[49m\u001B[43m,\u001B[49m\u001B[43m \u001B[49m\u001B[43mdtype\u001B[49m\u001B[43m,\u001B[49m\u001B[43m \u001B[49m\u001B[43mout\u001B[49m\u001B[43m,\u001B[49m\u001B[43m \u001B[49m\u001B[43mkeepdims\u001B[49m\u001B[43m)\u001B[49m\n\u001B[1;32m     59\u001B[0m     \u001B[38;5;28;01mreturn\u001B[39;00m umr_any(a, axis, dtype, out, keepdims, where\u001B[38;5;241m=\u001B[39mwhere)\n",
      "\u001B[0;31mKeyboardInterrupt\u001B[0m: "
     ]
    }
   ],
   "source": [
    "dfs = []\n",
    "for mf in mfs:\n",
    "    mfId = mfs[mf][1]\n",
    "    scId = mfs[mf][0]\n",
    "    payloads = [{\n",
    "        'mfID': mfId,\n",
    "        'scID': scId,\n",
    "        'fDate': f'01-Jan-{i}',\n",
    "        'tDate': f'31-Dec-{min(i + 4, 2023)}',\n",
    "    } for i in range(2010, 2023, 5)]\n",
    "\n",
    "    df = pd.DataFrame(columns=[mf, 'date'])\n",
    "    for payload in payloads:\n",
    "        response = requests.post('https://www.amfiindia.com/modules/NavHistoryPeriod', data=payload)\n",
    "        df_part = pd.read_html(response.text)[0]\n",
    "        df_part = df_part[[df_part.columns[0], df_part.columns[-1]]]\n",
    "        df_part.columns = [mf, 'date']\n",
    "        df = pd.concat([df, df_part])\n",
    "    df = df[df.columns[::-1]]\n",
    "    dfs.append(df)"
   ],
   "metadata": {
    "collapsed": false,
    "ExecuteTime": {
     "end_time": "2024-01-18T19:12:22.048057Z",
     "start_time": "2024-01-18T19:12:13.738408Z"
    }
   },
   "id": "7e8359a9cc1bb9fe",
   "execution_count": 5
  },
  {
   "cell_type": "code",
   "outputs": [],
   "source": [
    "df = reduce(lambda l,r: pd.merge(l,r,left_on='date',right_on='date',how='inner'), dfs)"
   ],
   "metadata": {
    "collapsed": false,
    "ExecuteTime": {
     "end_time": "2024-01-17T05:35:40.540477Z",
     "start_time": "2024-01-17T05:35:40.534055Z"
    }
   },
   "id": "3f2ca599b715f218",
   "execution_count": 55
  },
  {
   "cell_type": "code",
   "outputs": [],
   "source": [
    "df.to_csv(\"data/mfs.csv\",index=False)"
   ],
   "metadata": {
    "collapsed": false,
    "ExecuteTime": {
     "end_time": "2024-01-17T05:36:03.768987Z",
     "start_time": "2024-01-17T05:36:03.749806Z"
    }
   },
   "id": "ccd783170ffcca6d",
   "execution_count": 57
  },
  {
   "cell_type": "code",
   "outputs": [],
   "source": [],
   "metadata": {
    "collapsed": false
   },
   "id": "90ddc937f961ee60"
  }
 ],
 "metadata": {
  "kernelspec": {
   "display_name": "Python 3",
   "language": "python",
   "name": "python3"
  },
  "language_info": {
   "codemirror_mode": {
    "name": "ipython",
    "version": 2
   },
   "file_extension": ".py",
   "mimetype": "text/x-python",
   "name": "python",
   "nbconvert_exporter": "python",
   "pygments_lexer": "ipython2",
   "version": "2.7.6"
  }
 },
 "nbformat": 4,
 "nbformat_minor": 5
}
