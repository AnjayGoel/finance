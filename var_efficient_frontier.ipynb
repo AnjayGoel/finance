{
 "cells": [
  {
   "cell_type": "code",
   "outputs": [],
   "source": [
    "import pandas as pd\n",
    "import scipy.stats.distributions as dist\n",
    "import numpy as np\n",
    "import matplotlib.pyplot as plt\n",
    "import warnings\n",
    "\n",
    "from statsmodels.distributions.copula.api import *\n",
    "\n",
    "warnings.filterwarnings('ignore')"
   ],
   "metadata": {
    "collapsed": true,
    "ExecuteTime": {
     "end_time": "2024-01-29T18:50:14.987928Z",
     "start_time": "2024-01-29T18:50:14.980730Z"
    }
   },
   "id": "initial_id",
   "execution_count": 44
  },
  {
   "cell_type": "markdown",
   "source": [
    "### Reading the data"
   ],
   "metadata": {
    "collapsed": false
   },
   "id": "7846e1e48b23e658"
  },
  {
   "cell_type": "code",
   "outputs": [
    {
     "data": {
      "text/plain": "         largecap      midcap    smallcap        gold\ncount  552.000000  552.000000  552.000000  552.000000\nmean     0.003215    0.004253    0.005424    0.001480\nstd      0.021315    0.023039    0.026835    0.016405\nmin     -0.113771   -0.124562   -0.149438   -0.062393\n50%      0.003980    0.005418    0.006739    0.000801\nmax      0.130244    0.089973    0.112077    0.087009",
      "text/html": "<div>\n<style scoped>\n    .dataframe tbody tr th:only-of-type {\n        vertical-align: middle;\n    }\n\n    .dataframe tbody tr th {\n        vertical-align: top;\n    }\n\n    .dataframe thead th {\n        text-align: right;\n    }\n</style>\n<table border=\"1\" class=\"dataframe\">\n  <thead>\n    <tr style=\"text-align: right;\">\n      <th></th>\n      <th>largecap</th>\n      <th>midcap</th>\n      <th>smallcap</th>\n      <th>gold</th>\n    </tr>\n  </thead>\n  <tbody>\n    <tr>\n      <th>count</th>\n      <td>552.000000</td>\n      <td>552.000000</td>\n      <td>552.000000</td>\n      <td>552.000000</td>\n    </tr>\n    <tr>\n      <th>mean</th>\n      <td>0.003215</td>\n      <td>0.004253</td>\n      <td>0.005424</td>\n      <td>0.001480</td>\n    </tr>\n    <tr>\n      <th>std</th>\n      <td>0.021315</td>\n      <td>0.023039</td>\n      <td>0.026835</td>\n      <td>0.016405</td>\n    </tr>\n    <tr>\n      <th>min</th>\n      <td>-0.113771</td>\n      <td>-0.124562</td>\n      <td>-0.149438</td>\n      <td>-0.062393</td>\n    </tr>\n    <tr>\n      <th>50%</th>\n      <td>0.003980</td>\n      <td>0.005418</td>\n      <td>0.006739</td>\n      <td>0.000801</td>\n    </tr>\n    <tr>\n      <th>max</th>\n      <td>0.130244</td>\n      <td>0.089973</td>\n      <td>0.112077</td>\n      <td>0.087009</td>\n    </tr>\n  </tbody>\n</table>\n</div>"
     },
     "execution_count": 45,
     "metadata": {},
     "output_type": "execute_result"
    }
   ],
   "source": [
    "df = pd.read_csv('data/mfs.csv', parse_dates=['date'], index_col='date', dayfirst=True, date_format='%d-%b-%Y')\n",
    "\n",
    "# Downsampling to weekly data\n",
    "df = df.resample('W', convention='end').apply({k: 'last' for k in df.columns}).drop(columns=['flexi', 'liquid'])\n",
    "\n",
    "# Calculating the returns\n",
    "df = df.pct_change().dropna()\n",
    "\n",
    "# Describing the data\n",
    "df.describe(percentiles=[])"
   ],
   "metadata": {
    "collapsed": false,
    "ExecuteTime": {
     "end_time": "2024-01-29T18:50:15.599904Z",
     "start_time": "2024-01-29T18:50:15.561479Z"
    }
   },
   "id": "b432879ff8a48444",
   "execution_count": 45
  },
  {
   "cell_type": "markdown",
   "source": [
    "### Calculating the risk-free rate"
   ],
   "metadata": {
    "collapsed": false
   },
   "id": "2550fba3c0e2e72"
  },
  {
   "cell_type": "code",
   "outputs": [],
   "source": [
    "df_liq = pd.read_csv('data/mfs.csv', parse_dates=['date'], index_col='date', dayfirst=True, date_format='%d-%b-%Y')[\n",
    "    ['liquid']]\n",
    "\n",
    "df_liq = df_liq.resample('W', convention='end').apply({k: 'last' for k in df_liq.columns}).pct_change().dropna()\n",
    "risk_free_rate = (1 + df_liq.mean().values[0]) ** 52 - 1"
   ],
   "metadata": {
    "collapsed": false,
    "ExecuteTime": {
     "end_time": "2024-01-29T18:50:16.103361Z",
     "start_time": "2024-01-29T18:50:16.074821Z"
    }
   },
   "id": "8af29ea78be5307f",
   "execution_count": 46
  },
  {
   "cell_type": "markdown",
   "source": [
    "\n",
    "### Fitting the marginal distributions"
   ],
   "metadata": {
    "collapsed": false
   },
   "id": "efbbb92fce6358c0"
  },
  {
   "cell_type": "code",
   "outputs": [],
   "source": [
    "marginal_params = [dist.t.fit(df[col], floc=df[col].mean()) for col in df.columns]\n",
    "marginals = [dist.t(params[0] - 1, loc=params[1], scale=params[2]) for params in marginal_params]"
   ],
   "metadata": {
    "collapsed": false,
    "ExecuteTime": {
     "end_time": "2024-01-29T18:50:16.584918Z",
     "start_time": "2024-01-29T18:50:16.516957Z"
    }
   },
   "id": "85d22d741c530bf7",
   "execution_count": 47
  },
  {
   "cell_type": "markdown",
   "source": [
    "### Fitting the copula"
   ],
   "metadata": {
    "collapsed": false
   },
   "id": "32f0390bf1fc8ae5"
  },
  {
   "cell_type": "code",
   "outputs": [
    {
     "data": {
      "text/plain": "array([[ 1.       ,  0.5      ,  0.       , -0.5      ],\n       [ 0.5      ,  1.       ,  0.8660254, -1.       ],\n       [ 0.       ,  0.8660254,  1.       , -0.8660254],\n       [-0.5      , -1.       , -0.8660254,  1.       ]])"
     },
     "execution_count": 48,
     "metadata": {},
     "output_type": "execute_result"
    }
   ],
   "source": [
    "copula = StudentTCopula(k_dim=len(df.columns), df=5, corr=df.corr())\n",
    "copula.fit_corr_param(df.corr())"
   ],
   "metadata": {
    "collapsed": false,
    "ExecuteTime": {
     "end_time": "2024-01-29T18:50:16.849968Z",
     "start_time": "2024-01-29T18:50:16.846217Z"
    }
   },
   "id": "2c40a023f26b7b50",
   "execution_count": 48
  },
  {
   "cell_type": "markdown",
   "source": [
    "### Performing simulation using the fitted model"
   ],
   "metadata": {
    "collapsed": false
   },
   "id": "8975f81a98020a4a"
  },
  {
   "cell_type": "code",
   "outputs": [],
   "source": [
    "model = CopulaDistribution(marginals=marginals, copula=copula)"
   ],
   "metadata": {
    "collapsed": false,
    "ExecuteTime": {
     "end_time": "2024-01-29T18:50:17.159278Z",
     "start_time": "2024-01-29T18:50:17.154980Z"
    }
   },
   "id": "c870cfc573d5916f",
   "execution_count": 49
  },
  {
   "cell_type": "code",
   "outputs": [
    {
     "data": {
      "text/plain": "           largecap        midcap      smallcap          gold\ncount  10000.000000  10000.000000  10000.000000  10000.000000\nmean       0.003030      0.004243      0.005521      0.001388\nstd        0.022875      0.024133      0.029460      0.017571\nmin       -0.277643     -0.229087     -0.375076     -0.128336\n25%       -0.009054     -0.009444     -0.009973     -0.008082\n50%        0.002962      0.004298      0.005537      0.001310\n75%        0.015414      0.017828      0.021023      0.011081\nmax        0.279913      0.209116      0.314369      0.130340",
      "text/html": "<div>\n<style scoped>\n    .dataframe tbody tr th:only-of-type {\n        vertical-align: middle;\n    }\n\n    .dataframe tbody tr th {\n        vertical-align: top;\n    }\n\n    .dataframe thead th {\n        text-align: right;\n    }\n</style>\n<table border=\"1\" class=\"dataframe\">\n  <thead>\n    <tr style=\"text-align: right;\">\n      <th></th>\n      <th>largecap</th>\n      <th>midcap</th>\n      <th>smallcap</th>\n      <th>gold</th>\n    </tr>\n  </thead>\n  <tbody>\n    <tr>\n      <th>count</th>\n      <td>10000.000000</td>\n      <td>10000.000000</td>\n      <td>10000.000000</td>\n      <td>10000.000000</td>\n    </tr>\n    <tr>\n      <th>mean</th>\n      <td>0.003030</td>\n      <td>0.004243</td>\n      <td>0.005521</td>\n      <td>0.001388</td>\n    </tr>\n    <tr>\n      <th>std</th>\n      <td>0.022875</td>\n      <td>0.024133</td>\n      <td>0.029460</td>\n      <td>0.017571</td>\n    </tr>\n    <tr>\n      <th>min</th>\n      <td>-0.277643</td>\n      <td>-0.229087</td>\n      <td>-0.375076</td>\n      <td>-0.128336</td>\n    </tr>\n    <tr>\n      <th>25%</th>\n      <td>-0.009054</td>\n      <td>-0.009444</td>\n      <td>-0.009973</td>\n      <td>-0.008082</td>\n    </tr>\n    <tr>\n      <th>50%</th>\n      <td>0.002962</td>\n      <td>0.004298</td>\n      <td>0.005537</td>\n      <td>0.001310</td>\n    </tr>\n    <tr>\n      <th>75%</th>\n      <td>0.015414</td>\n      <td>0.017828</td>\n      <td>0.021023</td>\n      <td>0.011081</td>\n    </tr>\n    <tr>\n      <th>max</th>\n      <td>0.279913</td>\n      <td>0.209116</td>\n      <td>0.314369</td>\n      <td>0.130340</td>\n    </tr>\n  </tbody>\n</table>\n</div>"
     },
     "execution_count": 50,
     "metadata": {},
     "output_type": "execute_result"
    }
   ],
   "source": [
    "df_sim = pd.DataFrame(model.rvs(10000), columns=df.columns)\n",
    "df_sim.describe()"
   ],
   "metadata": {
    "collapsed": false,
    "ExecuteTime": {
     "end_time": "2024-01-29T18:50:17.397138Z",
     "start_time": "2024-01-29T18:50:17.323158Z"
    }
   },
   "id": "39802b6315ea2ab4",
   "execution_count": 50
  },
  {
   "cell_type": "code",
   "outputs": [],
   "source": [
    "### Generates a vector of random weights\n",
    "def get_weights(n):\n",
    "    weights = np.random.random(n)\n",
    "    weights /= np.sum(weights)\n",
    "    return weights\n",
    "\n",
    "\n",
    "def efficient_frontier(returns, iter, alpha):\n",
    "    # Initialize a list of json of returns, risks and weights\n",
    "    portfolio = []\n",
    "\n",
    "    # Get the number of assets in the portfolio\n",
    "    n_assets = returns.shape[1]\n",
    "\n",
    "    # Generate the portfolios and calculate the returns and VaRs\n",
    "    for i in range(iter):\n",
    "        # Get random weights\n",
    "        weights = get_weights(n_assets)\n",
    "        portfolio_returns = (returns * weights).sum(axis=1)\n",
    "\n",
    "        # Calculate the mean returns\n",
    "        mean_returns = portfolio_returns.mean()\n",
    "\n",
    "        # Calculate the CVaR\n",
    "        var = portfolio_returns.quantile(alpha)\n",
    "        cvar = -1 * portfolio_returns[portfolio_returns <= var].mean()\n",
    "\n",
    "        # Calculate the standard deviation\n",
    "        std = portfolio_returns.std()\n",
    "\n",
    "        # Append the returns and VaRs to the lists\n",
    "        portfolio.append({\n",
    "            **dict(zip(returns.columns, weights)),\n",
    "            'returns': mean_returns,\n",
    "            'var': var,\n",
    "            'std': std,\n",
    "            'cvar': cvar\n",
    "        })\n",
    "\n",
    "    df = pd.DataFrame(portfolio)\n",
    "    df['annual_returns'] = (df['returns'] + 1) ** 52 - 1\n",
    "    df['annual_std'] = (df['std']) * (52 ** 0.5)\n",
    "    df['annual_cvar'] = (df['cvar']) * (52 ** 0.5)\n",
    "    df['sharpe_ratio_std'] = (df['annual_returns'] - risk_free_rate) / df['annual_std']\n",
    "    df['sharpe_ratio_cvar'] = (df['annual_returns'] - risk_free_rate) / df['annual_cvar']\n",
    "    return df"
   ],
   "metadata": {
    "collapsed": false,
    "ExecuteTime": {
     "end_time": "2024-01-29T18:50:17.524785Z",
     "start_time": "2024-01-29T18:50:17.515681Z"
    }
   },
   "id": "75fbc1c1b0558ce1",
   "execution_count": 51
  },
  {
   "cell_type": "code",
   "outputs": [],
   "source": [
    "df_result = efficient_frontier(df_sim, 10000, alpha=0.10)"
   ],
   "metadata": {
    "collapsed": false,
    "ExecuteTime": {
     "end_time": "2024-01-29T18:50:33.473833Z",
     "start_time": "2024-01-29T18:50:17.635696Z"
    }
   },
   "id": "6d42b793c9109c83",
   "execution_count": 52
  },
  {
   "cell_type": "markdown",
   "source": [
    "### Plotting the efficient frontier"
   ],
   "metadata": {
    "collapsed": false
   },
   "id": "1de4bf3673aae95"
  },
  {
   "cell_type": "code",
   "outputs": [
    {
     "data": {
      "text/plain": "<Figure size 640x480 with 1 Axes>",
      "image/png": "[encoded data removed]"
     },
     "metadata": {},
     "output_type": "display_data"
    },
    {
     "data": {
      "text/plain": "<Figure size 640x480 with 1 Axes>",
      "image/png": "[encoded data removed]"
     },
     "metadata": {},
     "output_type": "display_data"
    }
   ],
   "source": [
    "plt.scatter(df_result['annual_std'], df_result['annual_returns'], c='red')\n",
    "plt.xlabel('Annual std')\n",
    "plt.ylabel('Annual returns')\n",
    "plt.show()\n",
    "\n",
    "\n",
    "\n",
    "plt.scatter(df_result['annual_cvar'], df_result['annual_returns'], c='orange')\n",
    "plt.xlabel('Annual cvar')\n",
    "plt.ylabel('Annual returns')\n",
    "plt.show()"
   ],
   "metadata": {
    "collapsed": false,
    "ExecuteTime": {
     "end_time": "2024-01-29T18:50:33.607288Z",
     "start_time": "2024-01-29T18:50:33.480397Z"
    }
   },
   "id": "a189e9ba19e2269e",
   "execution_count": 53
  },
  {
   "cell_type": "code",
   "outputs": [
    {
     "data": {
      "text/plain": "largecap             0.004172\nmidcap               0.058066\nsmallcap             0.876517\ngold                 0.061245\nreturns              0.005183\nvar                 -0.024165\nstd                  0.027156\ncvar                 0.042819\nannual_returns       0.308432\nannual_std           0.195826\nannual_cvar          0.308773\nsharpe_ratio_std     1.235012\nsharpe_ratio_cvar    0.783252\nName: 9166, dtype: float64"
     },
     "execution_count": 54,
     "metadata": {},
     "output_type": "execute_result"
    }
   ],
   "source": [
    "sharpe_cvar = df_result['sharpe_ratio_cvar'].argmax()\n",
    "df_result.iloc[sharpe_cvar]"
   ],
   "metadata": {
    "collapsed": false,
    "ExecuteTime": {
     "end_time": "2024-01-29T18:50:33.614021Z",
     "start_time": "2024-01-29T18:50:33.607364Z"
    }
   },
   "id": "1207a2f21b52a8f9",
   "execution_count": 54
  },
  {
   "cell_type": "code",
   "outputs": [
    {
     "data": {
      "text/plain": "largecap             0.004172\nmidcap               0.058066\nsmallcap             0.876517\ngold                 0.061245\nreturns              0.005183\nvar                 -0.024165\nstd                  0.027156\ncvar                 0.042819\nannual_returns       0.308432\nannual_std           0.195826\nannual_cvar          0.308773\nsharpe_ratio_std     1.235012\nsharpe_ratio_cvar    0.783252\nName: 9166, dtype: float64"
     },
     "execution_count": 55,
     "metadata": {},
     "output_type": "execute_result"
    }
   ],
   "source": [
    "sharpe_std = df_result['sharpe_ratio_std'].argmax()\n",
    "df_result.iloc[sharpe_std]"
   ],
   "metadata": {
    "collapsed": false,
    "ExecuteTime": {
     "end_time": "2024-01-29T18:50:33.620821Z",
     "start_time": "2024-01-29T18:50:33.614065Z"
    }
   },
   "id": "38563eae7d8a85a2",
   "execution_count": 55
  },
  {
   "cell_type": "code",
   "outputs": [],
   "source": [
    "row = df_result.iloc[sharpe_std]"
   ],
   "metadata": {
    "collapsed": false,
    "ExecuteTime": {
     "end_time": "2024-01-29T18:50:33.621535Z",
     "start_time": "2024-01-29T18:50:33.619167Z"
    }
   },
   "id": "5753191912bf75c0",
   "execution_count": 56
  },
  {
   "cell_type": "code",
   "outputs": [
    {
     "name": "stdout",
     "output_type": "stream",
     "text": [
      "Historical returns with same weights: 0.3046908441756484\n"
     ]
    }
   ],
   "source": [
    "weights = row[df_sim.columns]\n",
    "historical_returns = (1 + df.mean(axis=0).values) ** 52 - 1\n",
    "print(f\"Historical returns with same weights: {(weights.values * historical_returns).sum()}\")"
   ],
   "metadata": {
    "collapsed": false,
    "ExecuteTime": {
     "end_time": "2024-01-29T18:50:33.633884Z",
     "start_time": "2024-01-29T18:50:33.623577Z"
    }
   },
   "id": "90bc3f5fa5525fbb",
   "execution_count": 57
  },
  {
   "cell_type": "code",
   "outputs": [
    {
     "data": {
      "text/plain": "largecap             0.279103\nmidcap               0.113400\nsmallcap             0.007321\ngold                 0.600177\nreturns              0.002200\nvar                 -0.013116\nstd                  0.013460\ncvar                 0.022142\nannual_returns       0.121083\nannual_std           0.097063\nannual_cvar          0.159670\nsharpe_ratio_std     0.561483\nsharpe_ratio_cvar    0.341324\nName: 5651, dtype: float64"
     },
     "execution_count": 58,
     "metadata": {},
     "output_type": "execute_result"
    }
   ],
   "source": [
    "min_cvar = df_result['annual_cvar'].argmin()\n",
    "df_result.iloc[min_cvar]"
   ],
   "metadata": {
    "collapsed": false,
    "ExecuteTime": {
     "end_time": "2024-01-29T18:50:33.634262Z",
     "start_time": "2024-01-29T18:50:33.627156Z"
    }
   },
   "id": "ff044a6b0db9a284",
   "execution_count": 58
  }
 ],
 "metadata": {
  "kernelspec": {
   "display_name": "Python 3",
   "language": "python",
   "name": "python3"
  },
  "language_info": {
   "codemirror_mode": {
    "name": "ipython",
    "version": 2
   },
   "file_extension": ".py",
   "mimetype": "text/x-python",
   "name": "python",
   "nbconvert_exporter": "python",
   "pygments_lexer": "ipython2",
   "version": "2.7.6"
  }
 },
 "nbformat": 4,
 "nbformat_minor": 5
}
